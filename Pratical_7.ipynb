{
 "cells": [
  {
   "cell_type": "markdown",
   "id": "f803d084",
   "metadata": {},
   "source": [
    "***\n",
    "## Implement Artificial Neural Network training process in Python by using Forward Propagation, Back Propagation\n",
    "***"
   ]
  },
  {
   "cell_type": "code",
   "execution_count": 23,
   "id": "9e2337a6",
   "metadata": {},
   "outputs": [],
   "source": [
    "import numpy as np"
   ]
  },
  {
   "cell_type": "code",
   "execution_count": 24,
   "id": "db54318e",
   "metadata": {},
   "outputs": [],
   "source": [
    "class NeuralNetwork:\n",
    "    def __init__(self):\n",
    "        self.weights = np.random.rand(2,1)\n",
    "        self.bias = np.random.rand(1)\n",
    "    \n",
    "    def train(self, X, y, epochs):\n",
    "        for i in range(epochs):\n",
    "            output = self.predict(X)\n",
    "            error = y - output\n",
    "            \n",
    "            delta = error * output * (1 - output)\n",
    "            self.weights += np.dot(X.T, delta)\n",
    "            self.bias += np.sum(delta)\n",
    "            \n",
    "    def predict(self, X):\n",
    "        return 1/(1 + np.exp(-(np.dot(X, self.weights) + self.bias)))"
   ]
  },
  {
   "cell_type": "code",
   "execution_count": 25,
   "id": "5c38bc26",
   "metadata": {},
   "outputs": [],
   "source": [
    "X = np.array([[0, 0], [0, 1], [1, 0], [1, 1]])\n",
    "y = np.array([[0], [0], [0], [1]])"
   ]
  },
  {
   "cell_type": "code",
   "execution_count": 26,
   "id": "585147bb",
   "metadata": {},
   "outputs": [],
   "source": [
    "nn = NeuralNetwork()\n",
    "nn.train(X, y, epochs = 1000)"
   ]
  },
  {
   "cell_type": "code",
   "execution_count": 27,
   "id": "87a72ac0",
   "metadata": {},
   "outputs": [],
   "source": [
    "test_data = np.array([[0, 0], [0, 1], [1, 0], [1, 1]])\n",
    "predictions = nn.predict(test_data)"
   ]
  },
  {
   "cell_type": "code",
   "execution_count": 28,
   "id": "4709792f",
   "metadata": {},
   "outputs": [
    {
     "name": "stdout",
     "output_type": "stream",
     "text": [
      "Input: [0 0], Prediciton: [0.00024694]\n",
      "Input: [0 1], Prediciton: [0.05569744]\n",
      "Input: [1 0], Prediciton: [0.05569744]\n",
      "Input: [1 1], Prediciton: [0.93370799]\n"
     ]
    }
   ],
   "source": [
    "for x, prediction in zip(test_data, predictions):\n",
    "    print(f\"Input: {x}, Prediciton: {prediction}\")"
   ]
  },
  {
   "cell_type": "code",
   "execution_count": 17,
   "id": "40019f47",
   "metadata": {},
   "outputs": [
    {
     "data": {
      "text/plain": [
       "array([0.22022656])"
      ]
     },
     "execution_count": 17,
     "metadata": {},
     "output_type": "execute_result"
    }
   ],
   "source": [
    "rand(1)"
   ]
  },
  {
   "cell_type": "code",
   "execution_count": null,
   "id": "55987f29",
   "metadata": {},
   "outputs": [],
   "source": []
  }
 ],
 "metadata": {
  "kernelspec": {
   "display_name": "Python 3 (ipykernel)",
   "language": "python",
   "name": "python3"
  },
  "language_info": {
   "codemirror_mode": {
    "name": "ipython",
    "version": 3
   },
   "file_extension": ".py",
   "mimetype": "text/x-python",
   "name": "python",
   "nbconvert_exporter": "python",
   "pygments_lexer": "ipython3",
   "version": "3.11.5"
  }
 },
 "nbformat": 4,
 "nbformat_minor": 5
}
