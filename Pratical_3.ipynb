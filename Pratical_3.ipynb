{
 "cells": [
  {
   "cell_type": "markdown",
   "id": "bce28349",
   "metadata": {},
   "source": [
    "***\n",
    "## Write a Python Program using Perceptron Neural Network to recognise even and odd numbers. Given numbers are in ASCII form 0 to 9\n",
    "***"
   ]
  },
  {
   "cell_type": "code",
   "execution_count": 1,
   "id": "057474c7",
   "metadata": {},
   "outputs": [
    {
     "name": "stdout",
     "output_type": "stream",
     "text": [
      "Enter a Number (0-9) or 'exit' to quit: 0\n",
      "0  is  even\n",
      "Enter a Number (0-9) or 'exit' to quit: 1\n",
      "1  is  odd\n",
      "Enter a Number (0-9) or 'exit' to quit: 2\n",
      "2  is  even\n",
      "Enter a Number (0-9) or 'exit' to quit: 32\n",
      "Please enter a valid integer between 0 and 9 or 'exit'.\n",
      "Enter a Number (0-9) or 'exit' to quit: exit\n",
      "Exiting...\n"
     ]
    }
   ],
   "source": [
    "import numpy as np\n",
    "\n",
    "step_function = lambda x: 1 if x >= 0 else 0\n",
    "\n",
    "training_data = [\n",
    "    {'input': [1, 1, 0, 0, 0, 0], 'label': 1},\n",
    "    {'input': [1, 1, 0, 0, 0, 1], 'label': 0},\n",
    "    {'input': [1, 1, 0, 0, 1, 0], 'label': 1},\n",
    "    {'input': [1, 1, 0, 1, 1, 1], 'label': 0},\n",
    "    {'input': [1, 1, 0, 1, 0, 0], 'label': 1},\n",
    "    {'input': [1, 1, 0, 1, 0, 1], 'label': 0},\n",
    "    {'input': [1, 1, 0, 1, 1, 0], 'label': 1},\n",
    "    {'input': [1, 1, 0, 1, 1, 1], 'label': 0},\n",
    "    {'input': [1, 1, 1, 0, 0, 0], 'label': 1},\n",
    "    {'input': [1, 1, 1, 0, 0, 1], 'label': 0},\n",
    "]\n",
    "\n",
    "weights = np.array([0, 0, 0, 0, 0, 1])\n",
    "\n",
    "while True:\n",
    "    user_input = input(\"Enter a Number (0-9) or 'exit' to quit: \")\n",
    "    \n",
    "    if user_input.lower() == 'exit':\n",
    "        print(\"Exiting...\")\n",
    "        break\n",
    "    \n",
    "    if not user_input.isdigit() or int(user_input) < 0 or int(user_input) > 9:\n",
    "        print(\"Please enter a valid integer between 0 and 9 or 'exit'.\")\n",
    "        continue\n",
    "    \n",
    "    j = int(user_input)\n",
    "    \n",
    "    input_data = np.array([int(x) for x in list('{0:06b}'.format(j))])\n",
    "\n",
    "    for data in training_data:\n",
    "        input_pattern = np.array(data['input'])\n",
    "        label = data['label']\n",
    "        output = step_function(np.dot(input_pattern, weights))\n",
    "        error = label - output\n",
    "        weights += input_pattern * error\n",
    "\n",
    "    output = \"odd\" if step_function(np.dot(input_data, weights)) == 0 else \"even\"\n",
    "    print(j, \" is \", output)\n"
   ]
  },
  {
   "cell_type": "code",
   "execution_count": null,
   "id": "bd6f966d",
   "metadata": {},
   "outputs": [],
   "source": []
  }
 ],
 "metadata": {
  "kernelspec": {
   "display_name": "Python 3 (ipykernel)",
   "language": "python",
   "name": "python3"
  },
  "language_info": {
   "codemirror_mode": {
    "name": "ipython",
    "version": 3
   },
   "file_extension": ".py",
   "mimetype": "text/x-python",
   "name": "python",
   "nbconvert_exporter": "python",
   "pygments_lexer": "ipython3",
   "version": "3.11.5"
  }
 },
 "nbformat": 4,
 "nbformat_minor": 5
}
