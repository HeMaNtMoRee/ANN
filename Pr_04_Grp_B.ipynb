{
 "cells": [
  {
   "cell_type": "markdown",
   "id": "9259bcf4",
   "metadata": {},
   "source": [
    "***\n",
    "## Write a python program to design a Hopfield Network which stores 4 vectors\n",
    "***"
   ]
  },
  {
   "cell_type": "code",
   "execution_count": 1,
   "id": "a4be2458",
   "metadata": {},
   "outputs": [],
   "source": [
    "import numpy as np"
   ]
  },
  {
   "cell_type": "code",
   "execution_count": 2,
   "id": "80262057",
   "metadata": {},
   "outputs": [],
   "source": [
    "class HopfieldNetwork:\n",
    "    def __init__(self, n):\n",
    "        self.n = n\n",
    "        self.weights = np.zeros((n,n))\n",
    "        \n",
    "    def train(self, patterns):\n",
    "        for pattern in patterns:\n",
    "            pattern = np.reshape(pattern, (self.n, 1))\n",
    "            self.weights += np.dot(pattern, pattern.T)\n",
    "        np.fill_diagonal(self.weights, 0)\n",
    "            \n",
    "    def predict(self, pattern, max_iter = 100):\n",
    "        pattern = np.reshape(pattern, (self.n, 1))\n",
    "        for _ in range(max_iter):\n",
    "            new_pattern = np.sign(np.dot(self.weights, pattern))\n",
    "            if np.array_equal(pattern, new_pattern):\n",
    "                return np.squeeze(new_pattern)\n",
    "            pattern = new_pattern\n",
    "        return np.squeeze(pattern)"
   ]
  },
  {
   "cell_type": "code",
   "execution_count": 3,
   "id": "eb031f5f",
   "metadata": {},
   "outputs": [
    {
     "name": "stdout",
     "output_type": "stream",
     "text": [
      "Corrupted Pattern: [1, -1, -1, -1]\n",
      "Predicted Pattern: [ 1. -1.  1. -1.]\n"
     ]
    }
   ],
   "source": [
    "network = HopfieldNetwork(4)\n",
    "patterns = [[1, -1, 1, -1], [-1, 1, -1, 1], [1, -1, -1, 1], [-1, 1, 1, 1]]\n",
    "network.train(patterns)\n",
    "corrupted_patterns = [1, -1, -1, -1]\n",
    "predicted_patterns = network.predict(corrupted_patterns)\n",
    "print(f'Corrupted Pattern: {corrupted_patterns}')\n",
    "print(f'Predicted Pattern: {predicted_patterns}')"
   ]
  },
  {
   "cell_type": "code",
   "execution_count": null,
   "id": "8df1cd25",
   "metadata": {},
   "outputs": [],
   "source": [
    "    "
   ]
  }
 ],
 "metadata": {
  "kernelspec": {
   "display_name": "Python 3 (ipykernel)",
   "language": "python",
   "name": "python3"
  },
  "language_info": {
   "codemirror_mode": {
    "name": "ipython",
    "version": 3
   },
   "file_extension": ".py",
   "mimetype": "text/x-python",
   "name": "python",
   "nbconvert_exporter": "python",
   "pygments_lexer": "ipython3",
   "version": "3.11.5"
  }
 },
 "nbformat": 4,
 "nbformat_minor": 5
}
