{
 "cells": [
  {
   "cell_type": "markdown",
   "id": "1464e399",
   "metadata": {},
   "source": [
    "***\n",
    "## Write a python program to show Back Propagation Network for XOR function with Binary Input and Output\n",
    "***"
   ]
  },
  {
   "cell_type": "code",
   "execution_count": 1,
   "id": "51b656a3",
   "metadata": {},
   "outputs": [],
   "source": [
    "import numpy as np"
   ]
  },
  {
   "cell_type": "code",
   "execution_count": 2,
   "id": "f0fa6ea8",
   "metadata": {},
   "outputs": [],
   "source": [
    "def sigmoid(x):\n",
    "    return 1/(1 + np.exp(-x))"
   ]
  },
  {
   "cell_type": "code",
   "execution_count": 3,
   "id": "258ad68d",
   "metadata": {},
   "outputs": [],
   "source": [
    "def sigmoid_derivative(x):\n",
    "    return x * (1 - x)\n",
    "X = np.array([[0,0],[0,1],[1,0],[1,1]])\n",
    "y = np.array( [ [0], [1], [1], [1]])"
   ]
  },
  {
   "cell_type": "code",
   "execution_count": 4,
   "id": "7157b4f6",
   "metadata": {},
   "outputs": [],
   "source": [
    "np.random.seed(42)\n",
    "weights_0 = 2 * np.random.random((2,4)) -1\n",
    "weights_1 = 2 * np.random.random((4,1)) -1"
   ]
  },
  {
   "cell_type": "code",
   "execution_count": 6,
   "id": "791fd199",
   "metadata": {},
   "outputs": [],
   "source": [
    "for i in range(10000):\n",
    "    layer_0 = X\n",
    "    layer_1 = sigmoid(np.dot(layer_0, weights_0))\n",
    "    layer_2 = sigmoid(np.dot(layer_1, weights_1))\n",
    "    error = y - layer_2\n",
    "    delta_2 = error * sigmoid_derivative(layer_2)\n",
    "    delta_1 = delta_2.dot(weights_1.T) * sigmoid_derivative(layer_1)\n",
    "    weights_1 += layer_1.T.dot(delta_2)\n",
    "    weights_0 += layer_0.T.dot(delta_1)"
   ]
  },
  {
   "cell_type": "code",
   "execution_count": 7,
   "id": "acfccc73",
   "metadata": {},
   "outputs": [
    {
     "name": "stdout",
     "output_type": "stream",
     "text": [
      "Predicted Output\n",
      "[[0.0128807 ]\n",
      " [0.99224784]\n",
      " [0.9927387 ]\n",
      " [0.9975096 ]]\n"
     ]
    }
   ],
   "source": [
    "output = sigmoid(np.dot(sigmoid(np.dot(X, weights_0)), weights_1))\n",
    "print(\"Predicted Output\")\n",
    "print(output)"
   ]
  },
  {
   "cell_type": "code",
   "execution_count": null,
   "id": "37f8d888",
   "metadata": {},
   "outputs": [],
   "source": []
  }
 ],
 "metadata": {
  "kernelspec": {
   "display_name": "Python 3 (ipykernel)",
   "language": "python",
   "name": "python3"
  },
  "language_info": {
   "codemirror_mode": {
    "name": "ipython",
    "version": 3
   },
   "file_extension": ".py",
   "mimetype": "text/x-python",
   "name": "python",
   "nbconvert_exporter": "python",
   "pygments_lexer": "ipython3",
   "version": "3.11.5"
  }
 },
 "nbformat": 4,
 "nbformat_minor": 5
}
