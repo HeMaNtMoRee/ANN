{
 "cells": [
  {
   "cell_type": "markdown",
   "id": "5d188395",
   "metadata": {},
   "source": [
    "## Write a python Program for Bidirectional Associative Memory with two pairs of vectors."
   ]
  },
  {
   "cell_type": "code",
   "execution_count": 1,
   "id": "ce2362f3",
   "metadata": {},
   "outputs": [],
   "source": [
    "import numpy as np"
   ]
  },
  {
   "cell_type": "code",
   "execution_count": 37,
   "id": "5736e553",
   "metadata": {},
   "outputs": [],
   "source": [
    "X = np.array([[1, 1, 1, -1], [-1, -1, 1, 1]])\n",
    "Y = np.array([[1, -1], [-1, 1]])\n",
    "W = np.dot(Y.T, X)\n",
    "\n",
    "# W = ([[ 2,  2,  0, -2],\n",
    "#       [-2, -2,  0,  2]])"
   ]
  },
  {
   "cell_type": "code",
   "execution_count": 41,
   "id": "1cc93266",
   "metadata": {},
   "outputs": [],
   "source": [
    "def bam(x):\n",
    "    a = np.dot(W, x)\n",
    "    y = np.sign(a) #sign function returns -1 if x < 0, 0 if x==0, 1 if x > 0\n",
    "    return y"
   ]
  },
  {
   "cell_type": "code",
   "execution_count": 42,
   "id": "dece9e8b",
   "metadata": {},
   "outputs": [],
   "source": [
    "x_test = np.array([1, -1, -1, -1])\n",
    "y_test = bam(x_test)"
   ]
  },
  {
   "cell_type": "code",
   "execution_count": 43,
   "id": "35007213",
   "metadata": {},
   "outputs": [
    {
     "name": "stdout",
     "output_type": "stream",
     "text": [
      "Input x: [ 1 -1 -1 -1]\n",
      "Output y: [ 1 -1]\n"
     ]
    }
   ],
   "source": [
    "print(f\"Input x: {x_test}\")\n",
    "print(f\"Output y: {y_test}\")"
   ]
  },
  {
   "cell_type": "code",
   "execution_count": null,
   "id": "bcfc472a",
   "metadata": {},
   "outputs": [],
   "source": []
  }
 ],
 "metadata": {
  "kernelspec": {
   "display_name": "Python 3 (ipykernel)",
   "language": "python",
   "name": "python3"
  },
  "language_info": {
   "codemirror_mode": {
    "name": "ipython",
    "version": 3
   },
   "file_extension": ".py",
   "mimetype": "text/x-python",
   "name": "python",
   "nbconvert_exporter": "python",
   "pygments_lexer": "ipython3",
   "version": "3.11.5"
  }
 },
 "nbformat": 4,
 "nbformat_minor": 5
}
