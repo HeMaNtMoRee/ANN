{
 "cells": [
  {
   "cell_type": "markdown",
   "id": "cb5a56a2",
   "metadata": {},
   "source": [
    "***\n",
    "## Generate ANDNOT function using McCulloch-Pitts neural net by a python program.\n",
    "***"
   ]
  },
  {
   "cell_type": "code",
   "execution_count": 1,
   "id": "64d81cbc",
   "metadata": {},
   "outputs": [],
   "source": [
    "import numpy as np"
   ]
  },
  {
   "cell_type": "code",
   "execution_count": 2,
   "id": "45dd9e65",
   "metadata": {},
   "outputs": [],
   "source": [
    "def neural_output(inputs,weights,threshold):\n",
    "    weighted_sum = np.dot(inputs,weights)\n",
    "    output = 1 if weighted_sum >= threshold else 0\n",
    "    return output"
   ]
  },
  {
   "cell_type": "code",
   "execution_count": 3,
   "id": "b9093c8f",
   "metadata": {},
   "outputs": [],
   "source": [
    "def andnot(i1, i2):\n",
    "    weights = [-1, 1]\n",
    "    threshold = 1\n",
    "    inputs = np.array([i1, i2])\n",
    "    output = neural_output(inputs,weights,threshold)\n",
    "    return output"
   ]
  },
  {
   "cell_type": "code",
   "execution_count": 4,
   "id": "d6f5b9bc",
   "metadata": {},
   "outputs": [
    {
     "name": "stdout",
     "output_type": "stream",
     "text": [
      "0\n",
      "1\n",
      "0\n",
      "0\n"
     ]
    }
   ],
   "source": [
    "print(andnot(0,0))\n",
    "print(andnot(0,1))\n",
    "print(andnot(1,0))\n",
    "print(andnot(1,1))"
   ]
  }
 ],
 "metadata": {
  "kernelspec": {
   "display_name": "Python 3 (ipykernel)",
   "language": "python",
   "name": "python3"
  },
  "language_info": {
   "codemirror_mode": {
    "name": "ipython",
    "version": 3
   },
   "file_extension": ".py",
   "mimetype": "text/x-python",
   "name": "python",
   "nbconvert_exporter": "python",
   "pygments_lexer": "ipython3",
   "version": "3.11.5"
  }
 },
 "nbformat": 4,
 "nbformat_minor": 5
}
